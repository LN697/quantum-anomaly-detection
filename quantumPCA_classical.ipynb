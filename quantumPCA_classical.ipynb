{
 "cells": [
  {
   "cell_type": "code",
   "execution_count": 7,
   "metadata": {},
   "outputs": [
    {
     "name": "stdout",
     "output_type": "stream",
     "text": [
      "The rescaled feature vectors are\n",
      "X_1 =  [ 0.55901699 -1.11803399  0.55901699  0.55901699 -1.11803399 -1.11803399\n",
      " -1.11803399 -1.11803399  0.55901699  0.55901699  0.55901699  2.23606798\n",
      "  0.55901699 -1.11803399  0.55901699]\n",
      "X_2 =  [ 0.19474995 -1.31677383 -0.07974204 -0.25061785 -1.35949278 -1.01865008\n",
      " -1.27405488 -1.07409383  0.05568612  0.68192779  1.45268675  1.481772\n",
      "  1.33089229  0.22747085  0.94823955]\n"
     ]
    }
   ],
   "source": [
    "import numpy as np\n",
    "\n",
    "X_1 = [4,3,4,4,3,3,3,3,4,4,4,5,4,3,4]\n",
    "X_2 = [3028,1365,2726,2538,1318,1693,1412,1632,2875,3564,4412,4444,4278,3064,3857]\n",
    "X_1 = (X_1 - np.average(X_1)) / np.std(X_1)\n",
    "X_2 = (X_2 - np.average(X_2)) / np.std(X_2)\n",
    "print('The rescaled feature vectors are')\n",
    "print('X_1 = ', X_1)\n",
    "print('X_2 = ', X_2)"
   ]
  },
  {
   "cell_type": "markdown",
   "metadata": {},
   "source": [
    "Linear PCA covariance matrix"
   ]
  },
  {
   "cell_type": "code",
   "execution_count": 8,
   "metadata": {},
   "outputs": [
    {
     "name": "stdout",
     "output_type": "stream",
     "text": [
      "The covariance matrix is M = \n",
      " [[1.07142857 0.87414684]\n",
      " [0.87414684 1.07142857]]\n"
     ]
    }
   ],
   "source": [
    "M=np.array([[np.dot(X_1,X_1),np.dot(X_1,X_2)],[np.dot(X_2,X_1),np.dot(X_2,X_2)]]) / (15-1)\n",
    "print('The covariance matrix is', 'M = \\n', M)"
   ]
  },
  {
   "cell_type": "markdown",
   "metadata": {},
   "source": [
    "Finding the density matrix"
   ]
  },
  {
   "cell_type": "code",
   "execution_count": 9,
   "metadata": {},
   "outputs": [
    {
     "name": "stdout",
     "output_type": "stream",
     "text": [
      "The density matrix is \n",
      " [[0.5        0.40793519]\n",
      " [0.40793519 0.5       ]]\n"
     ]
    }
   ],
   "source": [
    "rho = M / np.trace(M)\n",
    "print('The density matrix is \\n', rho)"
   ]
  },
  {
   "cell_type": "markdown",
   "metadata": {},
   "source": [
    "Initializing a 5-qubit Quantum Circuit to calculate the eigen-values for the PCA covariance matrix"
   ]
  },
  {
   "cell_type": "code",
   "execution_count": 10,
   "metadata": {},
   "outputs": [
    {
     "name": "stdout",
     "output_type": "stream",
     "text": [
      "The purified state is \n",
      " [-0.21455164 -0.67377117  0.21455164 -0.67377117]\n",
      "Verify the reduction to the original mixed state \n",
      " [[0.5        0.40793519]\n",
      " [0.40793519 0.5       ]]\n"
     ]
    }
   ],
   "source": [
    "rho_eig_val, rho_eig_vec = np.linalg.eig(rho)\n",
    "\n",
    "p_vec = np.concatenate((np.sqrt(rho_eig_val), np.sqrt(rho_eig_val)), axis=0)\n",
    "U_vec = rho_eig_vec.reshape((4))\n",
    "\n",
    "psi = p_vec * U_vec\n",
    "print('The purified state is \\n', psi)\n",
    "\n",
    "rho_partial_trace = np.dot(psi.reshape((2,2)),psi.reshape((2,2)).transpose())\n",
    "print('Verify the reduction to the original mixed state \\n', rho_partial_trace)"
   ]
  },
  {
   "cell_type": "markdown",
   "metadata": {},
   "source": [
    "We will be measuring purity value through the Quantum Circuit"
   ]
  },
  {
   "cell_type": "code",
   "execution_count": 11,
   "metadata": {},
   "outputs": [
    {
     "data": {
      "text/html": [
       "<pre style=\"word-wrap: normal;white-space: pre;background: #fff0;line-height: 1.1;font-family: &quot;Courier New&quot;,Courier,monospace\">                     ┌─────────────────┐                ┌───┐   ┌───┐┌─┐\n",
       "q_0: ────────────────┤ Initialize(1,0) ├────────────────┤ H ├─■─┤ H ├┤M├\n",
       "     ┌───────────────┴─────────────────┴───────────────┐└───┘ │ └───┘└╥┘\n",
       "q_1: ┤0                                                ├──────X───────╫─\n",
       "     │  Initialize(-0.21455,-0.67377,0.21455,-0.67377) │      │       ║ \n",
       "q_2: ┤1                                                ├──────┼───────╫─\n",
       "     ├─────────────────────────────────────────────────┤      │       ║ \n",
       "q_3: ┤0                                                ├──────X───────╫─\n",
       "     │  Initialize(-0.21455,-0.67377,0.21455,-0.67377) │              ║ \n",
       "q_4: ┤1                                                ├──────────────╫─\n",
       "     └─────────────────────────────────────────────────┘              ║ \n",
       "c: 1/═════════════════════════════════════════════════════════════════╩═\n",
       "                                                                      0 </pre>"
      ],
      "text/plain": [
       "                     ┌─────────────────┐                ┌───┐   ┌───┐┌─┐\n",
       "q_0: ────────────────┤ Initialize(1,0) ├────────────────┤ H ├─■─┤ H ├┤M├\n",
       "     ┌───────────────┴─────────────────┴───────────────┐└───┘ │ └───┘└╥┘\n",
       "q_1: ┤0                                                ├──────X───────╫─\n",
       "     │  Initialize(-0.21455,-0.67377,0.21455,-0.67377) │      │       ║ \n",
       "q_2: ┤1                                                ├──────┼───────╫─\n",
       "     ├─────────────────────────────────────────────────┤      │       ║ \n",
       "q_3: ┤0                                                ├──────X───────╫─\n",
       "     │  Initialize(-0.21455,-0.67377,0.21455,-0.67377) │              ║ \n",
       "q_4: ┤1                                                ├──────────────╫─\n",
       "     └─────────────────────────────────────────────────┘              ║ \n",
       "c: 1/═════════════════════════════════════════════════════════════════╩═\n",
       "                                                                      0 "
      ]
     },
     "execution_count": 11,
     "metadata": {},
     "output_type": "execute_result"
    }
   ],
   "source": [
    "from qiskit import QuantumCircuit, execute, Aer, assemble\n",
    "\n",
    "circ = QuantumCircuit(5, 1)\n",
    "\n",
    "circ.initialize([1,0], (0,))\n",
    "circ.initialize(psi, (1,2))\n",
    "circ.initialize(psi, (3,4))\n",
    "circ.h(0)\n",
    "circ.cswap(0,1,3)\n",
    "circ.h(0)\n",
    "circ.measure(0,0)\n",
    "circ.draw()"
   ]
  },
  {
   "cell_type": "code",
   "execution_count": 12,
   "metadata": {},
   "outputs": [
    {
     "name": "stdout",
     "output_type": "stream",
     "text": [
      "{'1': 835994, '0': 9164006}\n"
     ]
    }
   ],
   "source": [
    "sim = Aer.get_backend('aer_simulator')\n",
    "\n",
    "# circ.save_statevector()\n",
    "\n",
    "qobj = assemble(circ)\n",
    "counts = sim.run(circ, shots=10**7).result().get_counts()\n",
    "print(counts)"
   ]
  },
  {
   "cell_type": "markdown",
   "metadata": {},
   "source": [
    "Calculating eigen-values from purity"
   ]
  },
  {
   "cell_type": "code",
   "execution_count": 13,
   "metadata": {},
   "outputs": [
    {
     "name": "stdout",
     "output_type": "stream",
     "text": [
      "The eigenvalues obtained by the quantum PCA are \n",
      " [1.9455477782619994, 0.19730936459514287]\n"
     ]
    }
   ],
   "source": [
    "purity = (counts['0'] - counts['1']) / (counts['0'] + counts['1'])\n",
    "m_1 = (1 + np.sqrt(2 * purity - 1)) / 2 * np.trace(M)\n",
    "m_2 = (1 - np.sqrt(2 * purity - 1)) / 2 * np.trace(M)\n",
    "print('The eigenvalues obtained by the quantum PCA are \\n', [m_1, m_2])"
   ]
  },
  {
   "cell_type": "markdown",
   "metadata": {},
   "source": [
    "Classical eigen-values"
   ]
  },
  {
   "cell_type": "code",
   "execution_count": 14,
   "metadata": {},
   "outputs": [
    {
     "name": "stdout",
     "output_type": "stream",
     "text": [
      "The eigenvalues obtained by classical diagonalization are \n",
      " [1.94557541 0.19728173]\n"
     ]
    }
   ],
   "source": [
    "m, vec = np.linalg.eig(M)\n",
    "idx = m.argsort()[::-1]\n",
    "m = m[idx]\n",
    "vec = vec[:,idx]\n",
    "print('The eigenvalues obtained by classical diagonalization are \\n', m)"
   ]
  }
 ],
 "metadata": {
  "kernelspec": {
   "display_name": "Python 3",
   "language": "python",
   "name": "python3"
  },
  "language_info": {
   "codemirror_mode": {
    "name": "ipython",
    "version": 3
   },
   "file_extension": ".py",
   "mimetype": "text/x-python",
   "name": "python",
   "nbconvert_exporter": "python",
   "pygments_lexer": "ipython3",
   "version": "3.11.0"
  },
  "orig_nbformat": 4
 },
 "nbformat": 4,
 "nbformat_minor": 2
}
