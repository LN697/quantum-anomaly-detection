{
 "cells": [
  {
   "cell_type": "code",
   "execution_count": 3,
   "metadata": {},
   "outputs": [
    {
     "name": "stdout",
     "output_type": "stream",
     "text": [
      "[4, 3, 4, 4, 3, 3, 3, 3, 4, 4, 4, 5, 4, 3, 4]\n",
      "[3028, 1365, 2726, 2538, 1318, 1693, 1412, 1632, 2875, 3564, 4412, 4444, 4278, 3064, 3857]\n"
     ]
    }
   ],
   "source": [
    "import numpy as np\n",
    "\n",
    "X_1= [4,3,4,4,3,3,3,3,4,4,4,5,4,3,4]\n",
    "X_2 = [3028,1365,2726,2538,1318,1693,1412,1632,2875,3564,4412,4444,4278,3064,3857]\n",
    "\n",
    "X_1_train = (X_1 - np.mean(X_1)) / np.std(X_1)\n",
    "X_2_train = (X_2 - np.mean(X_2)) / np.std(X_2)\n",
    "\n",
    "print(X_1)\n",
    "print(X_2)"
   ]
  },
  {
   "cell_type": "markdown",
   "metadata": {},
   "source": [
    "Modify for 'N' number of features "
   ]
  },
  {
   "cell_type": "code",
   "execution_count": 4,
   "metadata": {},
   "outputs": [
    {
     "name": "stdout",
     "output_type": "stream",
     "text": [
      "[[0.87414684 0.87414684]\n",
      " [0.87414684 1.07142857]]\n"
     ]
    }
   ],
   "source": [
    "C = np.array([[np.dot(X_1_train, X_2_train), np.dot(X_1_train, X_2_train)], [np.dot(X_2_train, X_1_train), np.dot(X_2_train, X_2_train)]]) / (15 - 1)\n",
    "print(C)"
   ]
  },
  {
   "cell_type": "code",
   "execution_count": 9,
   "metadata": {},
   "outputs": [
    {
     "name": "stdout",
     "output_type": "stream",
     "text": [
      "[-4.47213595  0.55901699 -1.11803399 -1.11803399]\n",
      "[-0.73961352  1.33089229  0.22747085  0.94823955]\n"
     ]
    }
   ],
   "source": [
    "X_1_test = [1,4,3,3]\n",
    "X_2_test = [2000,4278,3064,3857]\n",
    "\n",
    "X_1_test = (X_1_test - np.mean(X_1)) / np.std(X_1)\n",
    "X_2_test = (X_2_test - np.mean(X_2)) / np.std(X_2)\n",
    "\n",
    "print(X_1_test)\n",
    "print(X_2_test)"
   ]
  },
  {
   "cell_type": "code",
   "execution_count": 12,
   "metadata": {},
   "outputs": [
    {
     "name": "stdout",
     "output_type": "stream",
     "text": [
      "[44.39881399563443, 5.555454554366418, 2.0052391594509515, 2.351747528494332]\n"
     ]
    }
   ],
   "source": [
    "proximity_measure = []\n",
    "\n",
    "for i in range(len(X_1_test)) :\n",
    "    Z = X_1_test[i]**2 + X_2_test[i]**2 + np.dot(np.dot([X_1_test[i], X_2_test[i]], C), [[X_1_test[i]], [X_2_test[i]]])\n",
    "    proximity_measure.append(Z[0])\n",
    "\n",
    "print(proximity_measure)"
   ]
  }
 ],
 "metadata": {
  "kernelspec": {
   "display_name": "Python 3",
   "language": "python",
   "name": "python3"
  },
  "language_info": {
   "codemirror_mode": {
    "name": "ipython",
    "version": 3
   },
   "file_extension": ".py",
   "mimetype": "text/x-python",
   "name": "python",
   "nbconvert_exporter": "python",
   "pygments_lexer": "ipython3",
   "version": "3.11.4"
  },
  "orig_nbformat": 4
 },
 "nbformat": 4,
 "nbformat_minor": 2
}
