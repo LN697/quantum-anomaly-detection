{
 "cells": [
  {
   "cell_type": "code",
   "execution_count": 2,
   "metadata": {},
   "outputs": [],
   "source": [
    "import numpy as np\n",
    "from sklearn.preprocessing import StandardScaler\n",
    "from sklearn.decomposition import PCA\n",
    "\n",
    "X_1= [4,3,4,4,3,3,3,3,4,4,4,5,4,3,4]\n",
    "X_2 = [3028,1365,2726,2538,1318,1693,1412,1632,2875,3564,4412,4444,4278,3064,3857]\n",
    "\n",
    "x_train = [(x, y) for x, y in zip(X_1, X_2)]\n",
    "x_train = np.array(x_train)\n",
    "X_train = StandardScaler().fit_transform(x_train) # Fit into a standard distribution\n",
    "\n",
    "# feature_1 = X[:, 0]"
   ]
  },
  {
   "cell_type": "code",
   "execution_count": 3,
   "metadata": {},
   "outputs": [
    {
     "name": "stdout",
     "output_type": "stream",
     "text": [
      "[[ 0.70710678  0.70710678]\n",
      " [-0.70710678  0.70710678]]\n"
     ]
    }
   ],
   "source": [
    "pca = PCA()\n",
    "X_pca = pca.fit_transform(X_train)\n",
    "\n",
    "M = pca.components_ # What is this?\n",
    "\n",
    "print(M)"
   ]
  },
  {
   "cell_type": "code",
   "execution_count": 4,
   "metadata": {},
   "outputs": [
    {
     "name": "stdout",
     "output_type": "stream",
     "text": [
      "[[1.07142857 0.87414684]\n",
      " [0.87414684 1.07142857]]\n"
     ]
    }
   ],
   "source": [
    "C = np.cov(X_train, rowvar=False)\n",
    "\n",
    "print(C)"
   ]
  },
  {
   "cell_type": "code",
   "execution_count": 8,
   "metadata": {},
   "outputs": [
    {
     "name": "stdout",
     "output_type": "stream",
     "text": [
      "[[-4.47213595 -0.73961352]\n",
      " [ 0.55901699  1.33089229]\n",
      " [-1.11803399  0.22747085]\n",
      " [-1.11803399  0.94823955]]\n"
     ]
    }
   ],
   "source": [
    "scaler = StandardScaler().fit(x_train)\n",
    "\n",
    "X_1_test = [1,4,3,3] # Input feature_1\n",
    "X_2_test = [2000,4278,3064,3857] # Input feature_2\n",
    "\n",
    "x_test = [(x, y) for x, y in zip(X_1_test, X_2_test)]\n",
    "x_test = np.array(x_test)\n",
    "\n",
    "X_test = scaler.transform(x_test)\n",
    "\n",
    "print(X_test)"
   ]
  },
  {
   "cell_type": "markdown",
   "metadata": {},
   "source": [
    "Implement proximity measure function for N-feature linear PCA"
   ]
  },
  {
   "cell_type": "code",
   "execution_count": 9,
   "metadata": {},
   "outputs": [
    {
     "name": "stdout",
     "output_type": "stream",
     "text": [
      "[8289212.9445, 37939752.51571344, 19462859.24406486, 30835749.6490119]\n"
     ]
    }
   ],
   "source": [
    "proximity_measure = []\n",
    "\n",
    "for i in range(len(X_1_test)) :\n",
    "    Z = X_1_test[i]**2 + X_2_test[i]**2 + np.dot(np.dot([X_1_test[i], X_2_test[i]], C), [[X_1_test[i]], [X_2_test[i]]])\n",
    "    proximity_measure.append(Z[0])\n",
    "\n",
    "print(proximity_measure)"
   ]
  }
 ],
 "metadata": {
  "kernelspec": {
   "display_name": "Python 3",
   "language": "python",
   "name": "python3"
  },
  "language_info": {
   "codemirror_mode": {
    "name": "ipython",
    "version": 3
   },
   "file_extension": ".py",
   "mimetype": "text/x-python",
   "name": "python",
   "nbconvert_exporter": "python",
   "pygments_lexer": "ipython3",
   "version": "3.11.4"
  },
  "orig_nbformat": 4
 },
 "nbformat": 4,
 "nbformat_minor": 2
}
